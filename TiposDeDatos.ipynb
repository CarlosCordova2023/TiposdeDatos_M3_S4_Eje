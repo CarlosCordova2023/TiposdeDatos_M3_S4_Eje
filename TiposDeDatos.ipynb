{
  "nbformat": 4,
  "nbformat_minor": 0,
  "metadata": {
    "colab": {
      "provenance": [],
      "authorship_tag": "ABX9TyNI9olgJIGIpaisB3myyTf6",
      "include_colab_link": true
    },
    "kernelspec": {
      "name": "python3",
      "display_name": "Python 3"
    },
    "language_info": {
      "name": "python"
    }
  },
  "cells": [
    {
      "cell_type": "markdown",
      "metadata": {
        "id": "view-in-github",
        "colab_type": "text"
      },
      "source": [
        "<a href=\"https://colab.research.google.com/github/CarlosCordova2023/TiposdeDatos_M3_S4_Eje/blob/main/TiposDeDatos.ipynb\" target=\"_parent\"><img src=\"https://colab.research.google.com/assets/colab-badge.svg\" alt=\"Open In Colab\"/></a>"
      ]
    },
    {
      "cell_type": "code",
      "execution_count": 1,
      "metadata": {
        "colab": {
          "base_uri": "https://localhost:8080/"
        },
        "id": "vBYSyn_dKvQI",
        "outputId": "198999c5-8644-4b32-9773-d2b990676a95"
      },
      "outputs": [
        {
          "output_type": "stream",
          "name": "stdout",
          "text": [
            "[{8, 'ejercicio', 10.5}, False]\n"
          ]
        }
      ],
      "source": [
        "\n",
        "numero_entero = 8\n",
        "numero_decimal = 10.5\n",
        "palabra = \"ejercicio\"\n",
        "\n",
        "\n",
        "mi_set = {numero_entero, numero_decimal, palabra}\n",
        "\n",
        "\n",
        "mi_lista = [mi_set, False]\n",
        "\n",
        "# Imprimir la lista en pantalla\n",
        "print(mi_lista)\n"
      ]
    }
  ]
}